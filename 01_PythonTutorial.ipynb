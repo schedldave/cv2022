{
  "cells": [
    {
      "cell_type": "markdown",
      "metadata": {
        "id": "QuUAgQFQlsJU"
      },
      "source": [
        "# Tutorial 01 - Python for Computer Vision\n",
        "[![Open In Colab](https://colab.research.google.com/assets/colab-badge.svg)](https://colab.research.google.com/github/schedldave/cv2022/blob/main/01_PythonTutorial.ipynb)\n",
        "## Dr. David C. Schedl\n",
        "\n",
        "Note: this tutorial is geared towards students **experienced in general programming** and aims to introduce you to Python and some of the libraries we will use in the computer vision course.\n",
        "\n",
        "adapted from: \n",
        "* https://cs231n.github.io/python-numpy-tutorial/ (written by Justin Johnson; @Stanford)\n",
        "* http://6.869.csail.mit.edu/fa19/schedule.html (written by Julie Ganeshan; @MIT)\n"
      ]
    },
    {
      "cell_type": "markdown",
      "metadata": {
        "id": "GVOsLEGclsJZ"
      },
      "source": [
        "# Content\n",
        "In this tutorial, we will cover:\n",
        "* Python Setup: Python, Miniconda, pip, Colab\n",
        "* Basic Python: Basic data types (Containers, Lists, Dictionaries, Sets, Tuples), Functions, Classes\n",
        "* Numpy: Arrays, Array indexing, Datatypes, Array math, Broadcasting\n",
        "* Matplotlib: Plotting, Subplots, Images\n",
        "* IPython: Creating notebooks, Typical workflows\n",
        "\n",
        "# Useful Links:\n",
        "* [Python Documentation](https://docs.python.org/3.8/)\n",
        "* If you know Matlab, you can find the differences [here](https://numpy.org/doc/stable/user/numpy-for-matlab-users.html)."
      ]
    },
    {
      "cell_type": "markdown",
      "metadata": {
        "id": "PPgeNXZCJJt6"
      },
      "source": [
        "# Python\n",
        "\n",
        "Python is a high-level, dynamically typed multiparadigm programming language. Python code is often said to be almost like pseudocode, since it allows you to express very powerful ideas in very few lines of code while being very readable. \n",
        "Furthermore, we use Jupyter Notebooks which allows mixing text with code (as shown in this notebook).\n",
        "As an example, here is an implementation of the classic quicksort algorithm in Python:"
      ]
    },
    {
      "cell_type": "code",
      "execution_count": null,
      "metadata": {
        "colab": {
          "base_uri": "https://localhost:8080/"
        },
        "id": "taZJWguuJJt6",
        "outputId": "925f506f-4edf-4f90-dfea-2c86354e44e8"
      },
      "outputs": [],
      "source": [
        "def quicksort(arr):\n",
        "    if len(arr) <= 1:\n",
        "        return arr\n",
        "    pivot = arr[len(arr) // 2]\n",
        "    left = [x for x in arr if x < pivot]\n",
        "    middle = [x for x in arr if x == pivot]\n",
        "    right = [x for x in arr if x > pivot]\n",
        "    return quicksort(left) + middle + quicksort(right)\n",
        "\n",
        "print(quicksort([3,6,8,10,1,2,1]))"
      ]
    },
    {
      "cell_type": "markdown",
      "metadata": {
        "id": "fAJx-ESgJJt7"
      },
      "source": [
        "## Setup\n",
        "\n",
        "You have the option to run the code *online* with Google Colab (requires a Google account) or *locally* with your own installation of Python and an editor (I recommend Visual Studio Code).\n",
        "\n",
        "### Online: [![Open In Colab](https://colab.research.google.com/assets/colab-badge.svg)](https://colab.research.google.com/github/schedldave/cv2022/blob/main/PythonTutorial.ipynb)\n",
        "Everything runs on a Google machine, so you don't need to set up anything on your computer. Furthermore, the machines come with the most popular libraries preinstalled.\n",
        "\n",
        "### Local:\n",
        "Install Python on your computer via [Conda/Miniconda](https://conda.io/projects/conda/en/latest/user-guide/install/windows.html) or the [Python Installer](https://www.python.org/downloads/). Use Python3, as Python2 is not supported anymore. Furthermore, you need an Editor that support Jupyter (`.ipynb`)  notebooks. I recommend using [Visual Studio Code](https://code.visualstudio.com/download). Optionally, you can also use a local server and open [Notebooks in your browser](https://test-jupyter.readthedocs.io/en/latest/install.html) (Visual Studio simplifies this).\n"
      ]
    },
    {
      "cell_type": "markdown",
      "metadata": {
        "id": "zly8M9a9JJt7"
      },
      "source": [
        "## Libraries\n",
        "\n",
        "Python is a great general-purpose programming language on its own, but with the help of a few popular libraries it becomes a powerful environment for scientific computing. \n",
        "Per default no libraries are installed, so you need to install them to be able to use them. Any `import ...` command in Python code refers to a library. Common libraries are numpy, scipy, matplotlib.\n",
        "\n",
        "Note, you can skip this step if you use Colab!\n",
        "\n",
        "The libraries we use today are listed in `requirements.txt` and can be installed via a package manager.\n",
        "Use \n",
        "* `pip install -r requirements.txt`, if you use a regular Python installation or \n",
        "* `conda install --file requirements.txt` with Conda/Miniconda.\n",
        "\n",
        "To verify the installation of the required libraries import numpy and matplotlib:"
      ]
    },
    {
      "cell_type": "code",
      "execution_count": null,
      "metadata": {
        "id": "Gpvh7PPVlsJg"
      },
      "outputs": [],
      "source": [
        "import numpy as np\n",
        "import matplotlib.pyplot as plt"
      ]
    },
    {
      "cell_type": "markdown",
      "metadata": {
        "id": "y-JROiRmKgBA"
      },
      "source": [
        "# Basics"
      ]
    },
    {
      "cell_type": "markdown",
      "metadata": {
        "id": "zYtM6b0zckYp"
      },
      "source": [
        "## Data Types"
      ]
    },
    {
      "cell_type": "markdown",
      "metadata": {
        "id": "ZSy2yZrXNGYW"
      },
      "source": [
        "### Numbers\n",
        "\n",
        "Integers and floats work as you would expect from other languages:"
      ]
    },
    {
      "cell_type": "code",
      "execution_count": null,
      "metadata": {
        "colab": {
          "base_uri": "https://localhost:8080/"
        },
        "id": "97N50RtEKnxc",
        "outputId": "dbb774f0-1c2f-411e-dc41-d0e483cfc75a"
      },
      "outputs": [],
      "source": [
        "x = 3\n",
        "y = 3.0\n",
        "print(x, type(x))\n",
        "print(y, type(y))"
      ]
    },
    {
      "cell_type": "code",
      "execution_count": null,
      "metadata": {
        "colab": {
          "base_uri": "https://localhost:8080/"
        },
        "id": "xda9y-S3K5Zs",
        "outputId": "c26280de-eb1a-4c75-cc30-8d5c81d0d7c9"
      },
      "outputs": [],
      "source": [
        "print(x + 1)   # Addition\n",
        "print(x - 1)   # Subtraction\n",
        "print(x * 2)   # Multiplication\n",
        "print(x ** 2)  # Exponentiation\n",
        "x += 1\n",
        "print(x)\n",
        "x *= 2\n",
        "print(x)\n",
        "print(y, y + 1, y * 2, y ** 2)"
      ]
    },
    {
      "cell_type": "markdown",
      "metadata": {
        "id": "zDBNJJeTLZLt"
      },
      "source": [
        "### Booleans\n",
        "\n",
        "Python implements all of the usual operators for Boolean logic, but uses English words rather than symbols (`&&`, `||`, etc.):\n",
        "\n",
        "\n",
        "\n",
        "\n"
      ]
    },
    {
      "cell_type": "code",
      "execution_count": null,
      "metadata": {
        "colab": {
          "base_uri": "https://localhost:8080/"
        },
        "id": "gvV1H26uLfiP",
        "outputId": "f6846341-e1d7-4a4f-f42f-a4d439f5ac4f"
      },
      "outputs": [],
      "source": [
        "t, f = True, False\n",
        "print(type(t))"
      ]
    },
    {
      "cell_type": "code",
      "execution_count": null,
      "metadata": {
        "colab": {
          "base_uri": "https://localhost:8080/"
        },
        "id": "uxi4j3AQMAa3",
        "outputId": "c92331b1-a5dd-4caa-98a7-24629bd5ec54"
      },
      "outputs": [],
      "source": [
        "print(t and f) # Logical AND;\n",
        "print(t or f)  # Logical OR;\n",
        "print(not t)   # Logical NOT;\n",
        "print(t != f)  # Logical XOR;\n",
        "print(t is not f) # Logical XOR (same as above);"
      ]
    },
    {
      "cell_type": "markdown",
      "metadata": {
        "id": "6L8Zjw1s-JF6"
      },
      "source": [
        "### Strings"
      ]
    },
    {
      "cell_type": "code",
      "execution_count": null,
      "metadata": {
        "colab": {
          "base_uri": "https://localhost:8080/"
        },
        "id": "-wSNgoKL-MNw",
        "outputId": "e4a8fed0-475c-4ee1-e38a-95dc6e4c97a1"
      },
      "outputs": [],
      "source": [
        "hello = 'hello'   # String literals can use single quotes\n",
        "world = \"world\"   # or double quotes; it does not matter\n",
        "print(hello, len(hello))\n",
        "\n",
        "hw = hello + ' ' + world  # String concatenation\n",
        "print(hw)\n",
        "\n"
      ]
    },
    {
      "cell_type": "markdown",
      "metadata": {
        "id": "q-py8Dsd-u_e"
      },
      "source": [
        "String objects have a bunch of useful methods; for example:"
      ]
    },
    {
      "cell_type": "code",
      "execution_count": null,
      "metadata": {
        "colab": {
          "base_uri": "https://localhost:8080/"
        },
        "id": "tVbasDYV-PUJ",
        "outputId": "d771aac0-8454-4b92-c972-0255f532af80"
      },
      "outputs": [],
      "source": [
        "s = \"hello\"\n",
        "print(s.capitalize())  # Capitalize a string\n",
        "print(s.upper())       # Convert a string to uppercase; prints \"HELLO\"\n",
        "print(s.rjust(7))      # Right-justify a string, padding with spaces\n",
        "print(s.center(7))     # Center a string, padding with spaces\n",
        "print(s.replace('l', '(ell)'))  # Replace all instances of one substring with another\n",
        "print('  world '.strip())  # Strip leading and trailing whitespace"
      ]
    },
    {
      "cell_type": "markdown",
      "metadata": {
        "id": "rd-ICnKwNVd0"
      },
      "source": [
        "Since Python 3.6 formatted string literals or f-strings can be used to format strings. These strings start with an `f` contain the variable to format in a curly bracket (`{}`): "
      ]
    },
    {
      "cell_type": "code",
      "execution_count": null,
      "metadata": {
        "colab": {
          "base_uri": "https://localhost:8080/"
        },
        "id": "k0jtMHR6NVLs",
        "outputId": "239e18c5-73da-4f0e-9a6f-ac259b5618f6"
      },
      "outputs": [],
      "source": [
        "hw12 = f'{hello} {world} {12}'  # string formatting\n",
        "print(hw12)\n",
        "\n",
        "print( F'int {12:d} | floats {12.3:f} {12.3:05.1f}' )  # formatting numbers"
      ]
    },
    {
      "cell_type": "markdown",
      "metadata": {
        "id": "o9fmxdzN-1B5"
      },
      "source": [
        "Formatting can also be done with the legacy `{}` and `.format`. I think f-strings are better, though. "
      ]
    },
    {
      "cell_type": "code",
      "execution_count": null,
      "metadata": {
        "colab": {
          "base_uri": "https://localhost:8080/"
        },
        "id": "824tg-XB-QiK",
        "outputId": "82d05fd8-0ee3-4015-9df7-2cca1bfa1ab3"
      },
      "outputs": [],
      "source": [
        "hw12 = '{} {} {}'.format(hello, world, 12)  # string formatting\n",
        "print(hw12)\n",
        "\n",
        "print( 'int {:d} | floats {:f} {:05.1f}'.format(12,12.3,12.3) )  # formatting numbers"
      ]
    },
    {
      "cell_type": "markdown",
      "metadata": {
        "id": "5VGi6rv3BJJ2"
      },
      "source": [
        "## Containers"
      ]
    },
    {
      "cell_type": "markdown",
      "metadata": {
        "id": "x6qgCYfKBNLA"
      },
      "source": [
        "### Lists\n",
        "\n",
        "A list is the Python equivalent of an array ([Python documentation](https://docs.python.org/3.7/tutorial/datastructures.html#more-on-lists) ), but is resizeable and can contain elements of different types:"
      ]
    },
    {
      "cell_type": "code",
      "execution_count": null,
      "metadata": {
        "colab": {
          "base_uri": "https://localhost:8080/"
        },
        "id": "kt_Uw4vQBY8x",
        "outputId": "6a71a102-d2a4-4902-9e2e-bf5c6750e3f2"
      },
      "outputs": [],
      "source": [
        "xs = [3, 1, 2]   # Create a list\n",
        "print(xs, xs[2])\n",
        "print(xs[-1])     # Negative indices count from the end of the list; prints \"2\""
      ]
    },
    {
      "cell_type": "code",
      "execution_count": null,
      "metadata": {
        "colab": {
          "base_uri": "https://localhost:8080/"
        },
        "id": "0i1LZymIBaVh",
        "outputId": "5331326f-7abc-435b-e6f3-246156c2fcaf"
      },
      "outputs": [],
      "source": [
        "xs[2] = 'foo'    # Lists can contain elements of different types\n",
        "print(xs)"
      ]
    },
    {
      "cell_type": "code",
      "execution_count": null,
      "metadata": {
        "colab": {
          "base_uri": "https://localhost:8080/"
        },
        "id": "bDLzjLMZBdeT",
        "outputId": "b03fc32f-1f75-4cbb-fb58-782074e5a04f"
      },
      "outputs": [],
      "source": [
        "xs.append('bar') # Add a new element to the end of the list\n",
        "print(xs)  \n",
        "x = xs.pop()     # Remove and return the last element of the list\n",
        "print(x, xs)"
      ]
    },
    {
      "cell_type": "markdown",
      "metadata": {
        "id": "s8tVIwnNC-WJ"
      },
      "source": [
        "We can also create a list of lists, which is similar to a 2D array:"
      ]
    },
    {
      "cell_type": "code",
      "execution_count": null,
      "metadata": {
        "colab": {
          "base_uri": "https://localhost:8080/"
        },
        "id": "qLrjqUmqDHWB",
        "outputId": "d246645c-a20e-4743-f4bf-b976ff28aa1f"
      },
      "outputs": [],
      "source": [
        "xys = [[1,2,3,4,5],\n",
        "       [6,7,8,9]] # note, that the lists do not need to be of equal size.\n",
        "print(xys)\n",
        "print(xys[0][4])  # access the '2D' array"
      ]
    },
    {
      "cell_type": "markdown",
      "metadata": {
        "id": "pYVUP_zyCH6Z"
      },
      "source": [
        "### Slicing\n",
        "In addition to accessing list elements one at a time, Python provides concise syntax to access sublists; this is known as slicing. \n",
        "The general syntax is `list [start:stop[:step]]`\n",
        "This is very powerful and not limited to lists only. We will use that syntax later with Numpy too!"
      ]
    },
    {
      "cell_type": "code",
      "execution_count": null,
      "metadata": {
        "colab": {
          "base_uri": "https://localhost:8080/"
        },
        "id": "ButI3rIaCM_-",
        "outputId": "acc97cd5-505e-45bf-efd8-9f5087ccb348"
      },
      "outputs": [],
      "source": [
        "nums = list(range(5))    # range is a built-in function that creates a list of integers\n",
        "print(nums)         # Prints \"[0, 1, 2, 3, 4]\"\n",
        "print(nums[2:4])    # Get a slice from index 2 to 4 (exclusive); prints \"[2, 3]\"\n",
        "print(nums[2:])     # Get a slice from index 2 to the end; prints \"[2, 3, 4]\"\n",
        "print(nums[:2])     # Get a slice from the start to index 2 (exclusive); prints \"[0, 1]\"\n",
        "print(nums[:])      # Get a slice of the whole list; prints \"[0, 1, 2, 3, 4]\"\n",
        "print(nums[:-1])    # Slice indices can be negative; prints \"[0, 1, 2, 3]\"\n",
        "print(nums[::2])    # Using step to get every second element; prints \"[0, 2, 4]\"\n",
        "nums[2:4] = [8, 9]  # Assign a new sublist to a slice\n",
        "print(nums)         # Prints \"[0, 1, 8, 9, 4]\""
      ]
    },
    {
      "cell_type": "markdown",
      "metadata": {
        "id": "PiKCnexBFH8i"
      },
      "source": [
        "### Loops\n",
        "You can loop over the elements of a list like this:"
      ]
    },
    {
      "cell_type": "code",
      "execution_count": null,
      "metadata": {
        "colab": {
          "base_uri": "https://localhost:8080/"
        },
        "id": "MnyKhD3qFNkQ",
        "outputId": "9302d20e-15b8-4bcc-d4f0-7e4d2c2e1f46"
      },
      "outputs": [],
      "source": [
        "animals = ['cat', 'dog', 'monkey']\n",
        "for animal in animals:\n",
        "    print(animal)"
      ]
    },
    {
      "cell_type": "markdown",
      "metadata": {
        "id": "6YggjUV-FN-Y"
      },
      "source": [
        "If you want access to the index of each element within the body of a loop, use the built-in `enumerate` function:"
      ]
    },
    {
      "cell_type": "code",
      "execution_count": null,
      "metadata": {
        "colab": {
          "base_uri": "https://localhost:8080/"
        },
        "id": "hQWgMg3mFRbl",
        "outputId": "fa8ecf42-0e90-46d3-dabd-70f0391dbdbd"
      },
      "outputs": [],
      "source": [
        "animals = ['cat', 'dog', 'monkey']\n",
        "for idx, animal in enumerate(animals):\n",
        "    print('#{}: {}'.format(idx + 1, animal))"
      ]
    },
    {
      "cell_type": "markdown",
      "metadata": {
        "id": "bctC83a_FgDW"
      },
      "source": [
        "### List comprehensions\n",
        "\n",
        "When programming, frequently we want to transform one type of data into another. As a simple example, consider the following code that computes square numbers:\n",
        "\n"
      ]
    },
    {
      "cell_type": "code",
      "execution_count": null,
      "metadata": {
        "colab": {
          "base_uri": "https://localhost:8080/"
        },
        "id": "FmYE6_eaFoCv",
        "outputId": "1cb4739e-edf2-4771-99ba-124559f34b3b"
      },
      "outputs": [],
      "source": [
        "nums = [0, 1, 2, 3, 4]\n",
        "squares = []\n",
        "for x in nums:\n",
        "    squares.append(x ** 2)\n",
        "print(squares)"
      ]
    },
    {
      "cell_type": "markdown",
      "metadata": {
        "id": "O63RllVmFtRq"
      },
      "source": [
        "You can make this code simpler using a list comprehension, which can also contain conditions.\n",
        "Note that this list comprehensions can get quite complex and obfuscated, so they might be hard to interpret sometimes!"
      ]
    },
    {
      "cell_type": "code",
      "execution_count": null,
      "metadata": {
        "colab": {
          "base_uri": "https://localhost:8080/"
        },
        "id": "P5aGU3MsFtAv",
        "outputId": "0c7327f0-95e2-45f1-a2fc-1dfd3cd586c9"
      },
      "outputs": [],
      "source": [
        "nums = [0, 1, 2, 3, 4]\n",
        "squares = [x ** 2 for x in nums]\n",
        "print(squares)\n",
        "\n",
        "nums = [0, 1, 2, 3, 4]\n",
        "even_squares = [x ** 2 for x in nums if x % 2 == 0 ]\n",
        "print(even_squares)"
      ]
    },
    {
      "cell_type": "markdown",
      "metadata": {
        "id": "vLdmuTjJHcG7"
      },
      "source": [
        "### Sets\n",
        "\n",
        "A set is an unordered collection of distinct elements. \n",
        "As a simple example, consider the following:"
      ]
    },
    {
      "cell_type": "code",
      "execution_count": null,
      "metadata": {
        "colab": {
          "base_uri": "https://localhost:8080/"
        },
        "id": "xU100ujsIeOj",
        "outputId": "13266fa5-6071-4d61-8257-78451a0745c5"
      },
      "outputs": [],
      "source": [
        "animals = {'cat', 'dog'}\n",
        "print('cat' in animals)   # Check if an element is in a set; prints \"True\"\n",
        "print('fish' in animals)  # prints \"False\"\n",
        "\n",
        "animals.add('fish')      # Add an element to a set\n",
        "print('fish' in animals)\n",
        "print(len(animals))       # Number of elements in a set;\n",
        "\n",
        "animals.add('cat')       # Adding an element that is already in the set does nothing\n",
        "print(len(animals))       \n",
        "animals.remove('cat')    # Remove an element from a set\n",
        "print(len(animals))    "
      ]
    },
    {
      "cell_type": "markdown",
      "metadata": {
        "id": "9YCInakPIdZ3"
      },
      "source": [
        "A main difference of sets to lists is, that sets do not allow duplicates. \n",
        "Loops and list comprehensions, however are very similar to their equivalents for lists. "
      ]
    },
    {
      "cell_type": "code",
      "execution_count": null,
      "metadata": {
        "colab": {
          "base_uri": "https://localhost:8080/"
        },
        "id": "egQ2KYSjHgDH",
        "outputId": "47f3c60b-8da1-4716-d326-9af9a7fba130"
      },
      "outputs": [],
      "source": [
        "nums_set = {4, 1, 2, 3, 4, 0, 4}  # note the ordering\n",
        "print(type(nums_set), nums_set)   # no duplicates are possible\n",
        "\n",
        "nums_list = [4, 1, 2, 3, 4, 0, 4]   # note the ordering\n",
        "print(type(nums_list), nums_list)   # no duplicates are possible\n",
        "\n",
        "nums_set.add( 4 )\n",
        "print(nums_set)"
      ]
    },
    {
      "cell_type": "markdown",
      "metadata": {
        "id": "zk2DbvLKL9g_"
      },
      "source": [
        "_Loops_: Iterating over a set has the same syntax as iterating over a list; however since sets are unordered, you cannot make assumptions about the order in which you visit the elements of the set:"
      ]
    },
    {
      "cell_type": "code",
      "execution_count": null,
      "metadata": {
        "colab": {
          "base_uri": "https://localhost:8080/"
        },
        "id": "K47KYNGyL9hA",
        "outputId": "e06e4200-7595-4e3e-df64-2a63014b56cc"
      },
      "outputs": [],
      "source": [
        "animals = {'cat', 'dog', 'fish'}\n",
        "for idx, animal in enumerate(animals):\n",
        "    print('#{}: {}'.format(idx + 1, animal))"
      ]
    },
    {
      "cell_type": "markdown",
      "metadata": {
        "id": "puq4S8buL9hC"
      },
      "source": [
        "Set comprehensions: Like lists and dictionaries, we can easily construct sets using set comprehensions:"
      ]
    },
    {
      "cell_type": "code",
      "execution_count": null,
      "metadata": {
        "colab": {
          "base_uri": "https://localhost:8080/"
        },
        "id": "iw7k90k3L9hC",
        "outputId": "9e6c1fe7-7089-4629-e297-3607c2e963fa"
      },
      "outputs": [],
      "source": [
        "from math import sqrt\n",
        "print({int(sqrt(x)) for x in range(30)})"
      ]
    },
    {
      "cell_type": "markdown",
      "metadata": {
        "id": "H8xsUEFpL9gZ"
      },
      "source": [
        "### Dictionaries"
      ]
    },
    {
      "cell_type": "markdown",
      "metadata": {
        "id": "kkjAGMAJL9ga"
      },
      "source": [
        "A dictionary stores (key, value) pairs, similar to a `Map` in Java or an object in Javascript. You can use it like this:"
      ]
    },
    {
      "cell_type": "code",
      "execution_count": null,
      "metadata": {
        "colab": {
          "base_uri": "https://localhost:8080/"
        },
        "id": "XBYI1MrYL9gb",
        "outputId": "96da7963-5bf9-40e9-97f0-49dc96d15848"
      },
      "outputs": [],
      "source": [
        "d = {'cat': 'cute', 'dog': 'furry'}  # Create a new dictionary with some data\n",
        "print(d['cat'])       # Get an entry from a dictionary; prints \"cute\"\n",
        "print('cat' in d)     # Check if a dictionary has a given key; prints \"True\""
      ]
    },
    {
      "cell_type": "code",
      "execution_count": null,
      "metadata": {
        "colab": {
          "base_uri": "https://localhost:8080/"
        },
        "id": "pS7e-G-HL9gf",
        "outputId": "806cd041-51b5-4866-cd9d-f998782ebae1"
      },
      "outputs": [],
      "source": [
        "d['fish'] = 'wet'    # Set an entry in a dictionary\n",
        "print(d['fish'])      # Prints \"wet\""
      ]
    },
    {
      "cell_type": "code",
      "execution_count": null,
      "metadata": {
        "colab": {
          "base_uri": "https://localhost:8080/",
          "height": 165
        },
        "id": "tFY065ItL9gi",
        "outputId": "0d611fc0-b2d4-42bf-c067-4641bf8473fc"
      },
      "outputs": [],
      "source": [
        "print(d['monkey'])  # KeyError: 'monkey' not a key of d"
      ]
    },
    {
      "cell_type": "code",
      "execution_count": null,
      "metadata": {
        "colab": {
          "base_uri": "https://localhost:8080/"
        },
        "id": "8TjbEWqML9gl",
        "outputId": "36d719f5-f0cd-4ed5-c37a-e8315283c6c7"
      },
      "outputs": [],
      "source": [
        "print(d.get('monkey', 'N/A'))  # Get an element with a default; prints \"N/A\"\n",
        "print(d.get('fish', 'N/A'))    # Get an element with a default; prints \"wet\""
      ]
    },
    {
      "cell_type": "code",
      "execution_count": null,
      "metadata": {
        "colab": {
          "base_uri": "https://localhost:8080/"
        },
        "id": "0EItdNBJL9go",
        "outputId": "f62b8a40-e3d5-4ba5-cadd-3b456d19ab63"
      },
      "outputs": [],
      "source": [
        "del d['fish']        # Remove an element from a dictionary\n",
        "print(d.get('fish', 'N/A')) # \"fish\" is no longer a key; prints \"N/A\""
      ]
    },
    {
      "cell_type": "markdown",
      "metadata": {
        "id": "wqm4dRZNL9gr"
      },
      "source": [
        "You can find all you need to know about dictionaries in the [documentation](https://docs.python.org/2/library/stdtypes.html#dict)."
      ]
    },
    {
      "cell_type": "markdown",
      "metadata": {
        "id": "IxwEqHlGL9gr"
      },
      "source": [
        "It is easy to iterate over the keys in a dictionary:"
      ]
    },
    {
      "cell_type": "code",
      "execution_count": null,
      "metadata": {
        "colab": {
          "base_uri": "https://localhost:8080/"
        },
        "id": "rYfz7ZKNL9gs",
        "outputId": "4b7b9af6-dc11-4a2f-fd54-8f92fd8d5abd"
      },
      "outputs": [],
      "source": [
        "d = {'person': 2, 'cat': 4, 'spider': 8}\n",
        "for animal, legs in d.items():\n",
        "    print('A {} has {} legs'.format(animal, legs))"
      ]
    },
    {
      "cell_type": "markdown",
      "metadata": {
        "id": "17sxiOpzL9gz"
      },
      "source": [
        "Dictionary comprehensions: These are similar to list comprehensions, but allow you to easily construct dictionaries. For example:"
      ]
    },
    {
      "cell_type": "code",
      "execution_count": null,
      "metadata": {
        "colab": {
          "base_uri": "https://localhost:8080/"
        },
        "id": "8PB07imLL9gz",
        "outputId": "5bec008d-6b4f-4ecb-970c-55c20c9db1d5"
      },
      "outputs": [],
      "source": [
        "nums = [0, 1, 2, 3, 4]\n",
        "even_num_to_square = {x: x ** 2 for x in nums if x % 2 == 0}\n",
        "print(even_num_to_square)"
      ]
    },
    {
      "cell_type": "markdown",
      "metadata": {
        "id": "qPsHSKB1L9hF"
      },
      "source": [
        "### Tuples"
      ]
    },
    {
      "cell_type": "markdown",
      "metadata": {
        "id": "kucc0LKVL9hG"
      },
      "source": [
        "A tuple is an (immutable) ordered list of values. A tuple is in many ways similar to a list; one of the most important differences is that tuples can be used as keys in dictionaries and as elements of sets, while lists cannot. Here is a trivial example:"
      ]
    },
    {
      "cell_type": "code",
      "execution_count": null,
      "metadata": {
        "colab": {
          "base_uri": "https://localhost:8080/"
        },
        "id": "9wHUyTKxL9hH",
        "outputId": "e0fe2501-456d-4834-a69d-8c1bb765ce96"
      },
      "outputs": [],
      "source": [
        "d = {(x, x + 1): x for x in range(10)}  # Create a dictionary with tuple keys\n",
        "t = (5, 6)       # Create a tuple\n",
        "print(type(t))\n",
        "print(d[t])       \n",
        "print(d[(1, 2)])\n",
        "print(d)"
      ]
    },
    {
      "cell_type": "code",
      "execution_count": null,
      "metadata": {
        "colab": {
          "base_uri": "https://localhost:8080/",
          "height": 165
        },
        "id": "HoO8zYKzL9hJ",
        "outputId": "99fa34ed-9a55-4c1f-cdcd-2640bc46c5a6"
      },
      "outputs": [],
      "source": [
        "t[0] = 1 # Error: tuples cannot be changed"
      ]
    },
    {
      "cell_type": "markdown",
      "metadata": {
        "id": "AXA4jrEOL9hM"
      },
      "source": [
        "## Functions"
      ]
    },
    {
      "cell_type": "markdown",
      "metadata": {
        "id": "WaRms-QfL9hN"
      },
      "source": [
        "Python functions are defined using the `def` keyword. For example:"
      ]
    },
    {
      "cell_type": "code",
      "execution_count": null,
      "metadata": {
        "id": "kiMDUr58L9hN"
      },
      "outputs": [],
      "source": [
        "def sign(x):\n",
        "    if x > 0:\n",
        "        return 'positive'\n",
        "    elif x < 0:\n",
        "        return 'negative'\n",
        "    else:\n",
        "        return 'zero'\n",
        "\n",
        "for x in [-1, 0, 1]:\n",
        "    print(sign(x))"
      ]
    },
    {
      "cell_type": "markdown",
      "metadata": {
        "id": "U-QJFt8TL9hR"
      },
      "source": [
        "We will often define functions to take optional keyword arguments, like this:"
      ]
    },
    {
      "cell_type": "code",
      "execution_count": null,
      "metadata": {
        "id": "PfsZ3DazL9hR"
      },
      "outputs": [],
      "source": [
        "def hello(name, loud=False):\n",
        "    if loud:\n",
        "        print('HELLO, {}'.format(name.upper()))\n",
        "    else:\n",
        "        print('Hello, {}!'.format(name))\n",
        "\n",
        "hello('Bob')\n",
        "hello('Fred', loud=True)"
      ]
    },
    {
      "cell_type": "markdown",
      "metadata": {
        "id": "ObA9PRtQL9hT"
      },
      "source": [
        "## Classes"
      ]
    },
    {
      "cell_type": "markdown",
      "metadata": {
        "id": "hAzL_lTkL9hU"
      },
      "source": [
        "The syntax for defining classes in Python is straightforward:"
      ]
    },
    {
      "cell_type": "code",
      "execution_count": null,
      "metadata": {
        "colab": {
          "base_uri": "https://localhost:8080/"
        },
        "id": "RWdbaGigL9hU",
        "outputId": "17f674ed-894d-40e7-e5c6-5b5a34b42c29"
      },
      "outputs": [],
      "source": [
        "class Greeter:\n",
        "\n",
        "    # Constructor\n",
        "    def __init__(self, name):\n",
        "        self.name = name  # Create an instance variable\n",
        "\n",
        "    # Instance method\n",
        "    def greet(self, loud=False):\n",
        "        if loud:\n",
        "          print('HELLO, {}'.format(self.name.upper()))\n",
        "        else:\n",
        "          print('Hello, {}!'.format(self.name))\n",
        "\n",
        "g = Greeter('Fred')  # Construct an instance of the Greeter class\n",
        "g.greet()            # Call an instance method; prints \"Hello, Fred\"\n",
        "g.greet(loud=True)   # Call an instance method; prints \"HELLO, FRED!\""
      ]
    },
    {
      "cell_type": "markdown",
      "metadata": {
        "id": "YJKDaeGfPlWf"
      },
      "source": [
        "## Docstrings"
      ]
    },
    {
      "cell_type": "markdown",
      "metadata": {
        "id": "y3MsxyxuPqJi"
      },
      "source": [
        "A good piece of software needs documentation.\n",
        "With docstrings, Python provides a great way for documenting functions, classes, methods, etc. A docstring is a string literal that occurs as the first statement of a definition. Most IDEs support reading and showing docstrings (including Colab), so they help you and others to use and understand your code. \n",
        "\n",
        "There are various conventions, however. One very common is [Google's Style](\n",
        "https://sphinxcontrib-napoleon.readthedocs.io/en/latest/example_google.html)."
      ]
    },
    {
      "cell_type": "code",
      "execution_count": null,
      "metadata": {
        "colab": {
          "base_uri": "https://localhost:8080/",
          "height": 70
        },
        "id": "tsFtMvwwRI5e",
        "outputId": "bd205ef3-519b-4907-e5bd-c02065696196"
      },
      "outputs": [],
      "source": [
        "def well_documented_hello(name, loud=False):\n",
        "  \"\"\"A function that greets a person.\n",
        "\n",
        "  Args:\n",
        "    name (str): The name of the person.\n",
        "    loud (bool, optional): If True greet is uppercase. Defaults to False. \n",
        "\n",
        "  Returns:\n",
        "    str: The uppercase name of the person.\n",
        "  \"\"\"\n",
        "  if loud:\n",
        "      print('HELLO, {}'.format(name.upper()))\n",
        "  else:\n",
        "      print('Hello, {}!'.format(name))\n",
        "\n",
        "  return name.upper()\n",
        "\n",
        "well_documented_hello('Bob')\n",
        "well_documented_hello('Fred', loud=True)"
      ]
    },
    {
      "cell_type": "markdown",
      "metadata": {
        "id": "8vtSeBeRTzPn"
      },
      "source": [
        "## Type Hints"
      ]
    },
    {
      "cell_type": "markdown",
      "metadata": {
        "id": "o0Ht_1HCT4oX"
      },
      "source": [
        "Since Python 3.5 it is possible to add type annotations. \n",
        "The **Python runtime does not enforce** function and variable type annotations. However, they can be used by third party tools such as type checkers, IDEs, linters, etc. and help to understand and read your code.\n",
        "\n",
        "Here is an example of our `hello` function:"
      ]
    },
    {
      "cell_type": "code",
      "execution_count": null,
      "metadata": {
        "colab": {
          "base_uri": "https://localhost:8080/",
          "height": 70
        },
        "id": "QaT0be5zUcDI",
        "outputId": "87805eff-67b7-4ff1-a22d-9c3e7ff5aa6c"
      },
      "outputs": [],
      "source": [
        "def typed_hello(name: str, loud: bool=False) -> str:\n",
        "  \"\"\"A function that greets a person.\n",
        "\n",
        "  Args:\n",
        "    name: The name of the person.\n",
        "    loud: If True greet is uppercase. Defaults to False. \n",
        "\n",
        "  Returns:\n",
        "    The uppercase name of the person.\n",
        "  \"\"\"\n",
        "  if loud:\n",
        "      print('HELLO, {}'.format(name.upper()))\n",
        "  else:\n",
        "      print('Hello, {}!'.format(name))\n",
        "\n",
        "  return name.upper()\n",
        "\n",
        "typed_hello('Bob')\n",
        "typed_hello('Fred', loud=True)\n",
        "\n",
        "# Typing works with variables outside functions too!\n",
        "typed_variable: str = 'Max'\n",
        "print(typed_variable)"
      ]
    },
    {
      "cell_type": "markdown",
      "metadata": {
        "id": "IRelpfS8lsJz"
      },
      "source": [
        "# Numpy\n",
        "\n",
        "Numpy is a numerical library that provides **_tons_** of useful functions for scalar, array, and matrix types. We'll only go into a small scratch of numpy.\n",
        "\n",
        "**Why numpy instead of regular `for` loops**? \\\n",
        "In addition to the convenience of not redesigning the wheel, much of Numpy is built directly in C++ and is well optimized, so it runs *very* fast\n",
        "\n",
        "Let's import numpy now! It is customary to call it `np`, since you need to reference it a lot."
      ]
    },
    {
      "cell_type": "code",
      "execution_count": null,
      "metadata": {
        "id": "bPWkPZ-3lsJ3"
      },
      "outputs": [],
      "source": [
        "import numpy as np"
      ]
    },
    {
      "cell_type": "markdown",
      "metadata": {
        "id": "TsPlWndglsKD"
      },
      "source": [
        "## Arrays, Matrices, and Tensors"
      ]
    },
    {
      "cell_type": "markdown",
      "metadata": {
        "id": "-0UBbo9nlsKG"
      },
      "source": [
        "One of the most important primitives in numpy is the `np.array` - this represents a fixed-size array (or list) of elements.\n",
        "\n",
        "Unlike Python lists, numpy arrays **MUST HAVE THE SAME TYPE**. The types allowed by numpy are below. Note that you have greater control over how much space is used by each datatype than Python primitives:\n",
        "- float16, float32, float64 (decimal values)\n",
        "- int8, int16, int32, int64 (integers)\n",
        "- uint8, uint16, uint32, uint64 (unsigned, or positive, integers)\n",
        "- bool (boolean)\n",
        "- complex64, complex128 (Complex numbers, represented as 2 floats)\n",
        "\n",
        "All of these types have a default size that you can access with `float`, `int`, and so on.\n",
        "\n",
        "Let's make an array from a Python list!"
      ]
    },
    {
      "cell_type": "code",
      "execution_count": null,
      "metadata": {
        "colab": {
          "base_uri": "https://localhost:8080/"
        },
        "id": "86ESPxI0lsKK",
        "outputId": "98f6cd69-900d-45e9-f5ec-9f566bb8bb7a"
      },
      "outputs": [],
      "source": [
        "a = np.array([1, 2, 3], dtype=np.int8)\n",
        "b = np.array([10, 20, 30], dtype=np.int64)\n",
        "print(\"A is %s. B is %s\" % (repr(a), repr(b)))\n",
        "print(\"Object Type of a:\",type(a))\n",
        "print(f\"Size of a: {a.nbytes} bytes\")\n",
        "print(f\"Size of b: {b.nbytes} bytes\")"
      ]
    },
    {
      "cell_type": "markdown",
      "metadata": {
        "id": "rxLQlv98lsKg"
      },
      "source": [
        "Let's see what type numpy inferred from our data"
      ]
    },
    {
      "cell_type": "code",
      "execution_count": null,
      "metadata": {
        "colab": {
          "base_uri": "https://localhost:8080/"
        },
        "id": "P5s8HH06lsKj",
        "outputId": "2f1a0d23-cb9d-4da5-f2b8-e5cc641dd9bc"
      },
      "outputs": [],
      "source": [
        "a.dtype"
      ]
    },
    {
      "cell_type": "markdown",
      "metadata": {
        "id": "nwLVHVtFlsKv"
      },
      "source": [
        "You can get a casted version of an array using the function `astype`"
      ]
    },
    {
      "cell_type": "code",
      "execution_count": null,
      "metadata": {
        "colab": {
          "base_uri": "https://localhost:8080/"
        },
        "id": "xanNWFpwlsK0",
        "outputId": "ac125150-1cca-4876-b62b-2ec530a51f89"
      },
      "outputs": [],
      "source": [
        "a.astype(complex)"
      ]
    },
    {
      "cell_type": "markdown",
      "metadata": {
        "id": "8Yxd-jJqlsK_"
      },
      "source": [
        "We can access elements of an array using the same `[]` notation we're used to. We can even use negatives to index from the end, and make slices."
      ]
    },
    {
      "cell_type": "code",
      "execution_count": null,
      "metadata": {
        "colab": {
          "base_uri": "https://localhost:8080/"
        },
        "id": "_r4tMqNzlsLC",
        "outputId": "568a1018-a977-4be0-8cc2-106cf46e0653"
      },
      "outputs": [],
      "source": [
        "print(a[1])\n",
        "print(b[-1])\n",
        "print(repr(a[0:3:2]))"
      ]
    },
    {
      "cell_type": "markdown",
      "metadata": {
        "id": "tZTqTerwlsLP"
      },
      "source": [
        "Since arrays have a fixed size, we can get this size as a tuple using the `shape` attribute - you can't set this though!"
      ]
    },
    {
      "cell_type": "code",
      "execution_count": null,
      "metadata": {
        "colab": {
          "base_uri": "https://localhost:8080/"
        },
        "id": "2_HeIgCnlsLT",
        "outputId": "6be3a2b2-78a3-4afc-b54f-4209cbf36121"
      },
      "outputs": [],
      "source": [
        "print(a.shape)\n",
        "print(b.shape)"
      ]
    },
    {
      "cell_type": "markdown",
      "metadata": {
        "id": "NcFvaJAxlsLg"
      },
      "source": [
        "We can also change elements of the array - we just can't add new elements"
      ]
    },
    {
      "cell_type": "code",
      "execution_count": null,
      "metadata": {
        "colab": {
          "base_uri": "https://localhost:8080/"
        },
        "id": "X2IBQgOIlsLk",
        "outputId": "5705540f-e34e-47d9-97a7-4ffe6db049e3"
      },
      "outputs": [],
      "source": [
        "a[0] = 100\n",
        "print(repr(a))"
      ]
    },
    {
      "cell_type": "markdown",
      "metadata": {
        "id": "u1xAr63xlsLw"
      },
      "source": [
        "Since `a` and `b` are numpy arrays, we can do math with them now! These operations, by default, will happen out-of-place (a new array will be created to store the result)"
      ]
    },
    {
      "cell_type": "code",
      "execution_count": null,
      "metadata": {
        "colab": {
          "base_uri": "https://localhost:8080/"
        },
        "id": "7GxTc80tlsLz",
        "outputId": "ca17d537-85b7-4522-b2db-71671087c16b"
      },
      "outputs": [],
      "source": [
        "print(\"Numpy math:\")\n",
        "print(a,\"+\",b,\"=\",a + b)\n",
        "\n",
        "# If they weren't numpy arrays\n",
        "print(\"\\nVanilla Python List math:\")\n",
        "print(list(a),\"+\",list(b),\"=\",list(a) + list(b))"
      ]
    },
    {
      "cell_type": "markdown",
      "metadata": {
        "id": "3mTuX0yAlsL-"
      },
      "source": [
        "This is a small example, but we'll soon see more complicated operations numpy arrays can perform!"
      ]
    },
    {
      "cell_type": "markdown",
      "metadata": {
        "id": "J7ijTZXQlsMC"
      },
      "source": [
        "### Adding Dimensions\n",
        "We can also make matrices, by simply giving the constructor the correct shape of data"
      ]
    },
    {
      "cell_type": "code",
      "execution_count": null,
      "metadata": {
        "colab": {
          "base_uri": "https://localhost:8080/"
        },
        "id": "34cv7N9nlsMI",
        "outputId": "e056e131-87c1-43b9-93f7-2c1c65b3f6e4"
      },
      "outputs": [],
      "source": [
        "my_matrix = np.array(\n",
        "    [\n",
        "        [1, 2, 3],\n",
        "        [4, 5, 6]\n",
        "    ]\n",
        ")\n",
        "print(repr(my_matrix))"
      ]
    },
    {
      "cell_type": "markdown",
      "metadata": {
        "id": "WkUIK3i4lsMS"
      },
      "source": [
        "Now, using shape will be more helpful - note that you couldn't get this shape with a Python list!"
      ]
    },
    {
      "cell_type": "code",
      "execution_count": null,
      "metadata": {
        "colab": {
          "base_uri": "https://localhost:8080/"
        },
        "id": "qARpdnhelsMV",
        "outputId": "021d231a-861c-4871-e424-bc7e063511f8"
      },
      "outputs": [],
      "source": [
        "print(my_matrix.shape)"
      ]
    },
    {
      "cell_type": "markdown",
      "metadata": {
        "id": "cjt2c_ZnlsMh"
      },
      "source": [
        "We can access matrix elements using each of their indices in order. (All dimensions are 0-indexed)"
      ]
    },
    {
      "cell_type": "code",
      "execution_count": null,
      "metadata": {
        "colab": {
          "base_uri": "https://localhost:8080/"
        },
        "id": "PQxw9AN_lsMk",
        "outputId": "44803247-0372-460f-bf06-3177139f2fe0"
      },
      "outputs": [],
      "source": [
        "print(my_matrix[0,2]) # Get row 0, column 2. The order of these indices matches their respective maximums in shape."
      ]
    },
    {
      "cell_type": "markdown",
      "metadata": {
        "id": "hXJwgdR9lsM0"
      },
      "source": [
        "We can still use slices, and negative indexing. Slicing a row or column from a matrix gives us a 1D array!"
      ]
    },
    {
      "cell_type": "code",
      "execution_count": null,
      "metadata": {
        "colab": {
          "base_uri": "https://localhost:8080/"
        },
        "id": "ufOBsi-llsM5",
        "outputId": "02022eb2-7eee-44c5-f452-5d2241cac093"
      },
      "outputs": [],
      "source": [
        "# Get row 0, all columns except the last one\n",
        "print(repr(my_matrix[0,:-1]))\n",
        "\n",
        "# Get columns 1 and 2.\n",
        "print(repr(my_matrix[:, 1:3]))"
      ]
    },
    {
      "cell_type": "markdown",
      "metadata": {
        "id": "9uW_xhnqlsNM"
      },
      "source": [
        "We can also still index into this as an outer-array"
      ]
    },
    {
      "cell_type": "code",
      "execution_count": null,
      "metadata": {
        "colab": {
          "base_uri": "https://localhost:8080/"
        },
        "id": "ovj7O-0mlsNP",
        "outputId": "48360fc4-3791-45f5-fecc-a95213644233"
      },
      "outputs": [],
      "source": [
        "# Gets the 0th element of the outer array - that's the 0th row!\n",
        "print(repr(my_matrix[0]))"
      ]
    },
    {
      "cell_type": "markdown",
      "metadata": {
        "id": "UIkyPTQtlsNd"
      },
      "source": [
        "**NOTE:** Matrices in numpy MUST be rectangular. Unlike nested Python lists, which can have the first list contain 1 element, and the second list contain 3 elements, in a numpy matrix, all rows have to have the same length. In other words, the matrix cannot be \"jagged\""
      ]
    },
    {
      "cell_type": "markdown",
      "metadata": {
        "id": "AdUEoK8PlsNh"
      },
      "source": [
        "Matrices, and other multi-dimensional arrays, are stored in \"row-major\" format - that is, elements of a row are stored next to each other. \n",
        "\n",
        "So, in this way, we can think of a multidimensional matrix as a single contiguous array, where shapes are just a human abstraction. Let's get this matrix as a 1D array."
      ]
    },
    {
      "cell_type": "code",
      "execution_count": null,
      "metadata": {
        "colab": {
          "base_uri": "https://localhost:8080/"
        },
        "id": "WezpQGbUlsNq",
        "outputId": "e6bb033e-5671-416e-dd32-b5b59695d200"
      },
      "outputs": [],
      "source": [
        "print(my_matrix.ravel())"
      ]
    },
    {
      "cell_type": "markdown",
      "metadata": {
        "id": "5Gu6uF9AlsOH"
      },
      "source": [
        "So, we can actually shape these 6 elements into whatever shape we want! This can be useful to create high dimensional arrays."
      ]
    },
    {
      "cell_type": "code",
      "execution_count": null,
      "metadata": {
        "colab": {
          "base_uri": "https://localhost:8080/"
        },
        "id": "75xHCDVElsOL",
        "outputId": "4c1612ac-1687-4d92-b0e2-08870a72c06a"
      },
      "outputs": [],
      "source": [
        "my_reshaped_matrix = my_matrix.reshape((3,2))\n",
        "my_reshaped_matrix"
      ]
    },
    {
      "cell_type": "markdown",
      "metadata": {
        "id": "kPGcM7iUlsOa"
      },
      "source": [
        "Unless you explicitly use `np.copy`, Reshapes and slices create *views* of your data - that is, they all reference the same data! So, since the variables are all aliases to the same data, changes to one will reflect in all the others! This is a double-edged sword that can boost your performance, but might catch you off guard."
      ]
    },
    {
      "cell_type": "code",
      "execution_count": null,
      "metadata": {
        "colab": {
          "base_uri": "https://localhost:8080/"
        },
        "id": "FBF6eDCvlsOd",
        "outputId": "d2b21451-5c29-474e-e509-4f7839e8e470"
      },
      "outputs": [],
      "source": [
        "print(\"Original my_matrix\")\n",
        "print(repr(my_matrix))\n",
        "print(\"Original my_reshaped_matrix\")\n",
        "print(repr(my_reshaped_matrix))\n",
        "\n",
        "# Change an element\n",
        "print(\"===MAKING A CHANGE===\")\n",
        "my_matrix[0,0] = 100 - my_matrix[0, 0]\n",
        "\n",
        "print(\"New my_matrix\")\n",
        "print(repr(my_matrix))\n",
        "print(\"New my_reshaped_matrix\")\n",
        "print(repr(my_reshaped_matrix))"
      ]
    },
    {
      "cell_type": "markdown",
      "metadata": {
        "id": "pirJzx0ylsOt"
      },
      "source": [
        "### Try it yourself!\n",
        "\n",
        "You should now be able to do [Exercise 1](#exercise1)"
      ]
    },
    {
      "cell_type": "markdown",
      "metadata": {
        "id": "iax2QveulsOw"
      },
      "source": [
        "### The third dimension and beyond\n",
        "\n",
        "We were able to add a dimension to a 1D array to make a 2D matrix.\n",
        "In fact, numpy can handle even more dimensions! \n",
        "In computer vision, we often will use 3 dimensions worth of data (Height x Width x 3 colors)\n",
        "\n",
        "A \"matrix\" with 3 or more dimensions is called a *Tensor*.  \n",
        "Let's make a 2 x 3 x 4 tensor (2 stacked 3x4 matrices)"
      ]
    },
    {
      "cell_type": "code",
      "execution_count": null,
      "metadata": {
        "id": "G7X_1MEqlsO1"
      },
      "outputs": [],
      "source": [
        "my_tensor = np.array(range(2*3*4)).reshape(2,3,4)\n",
        "print(my_tensor)"
      ]
    },
    {
      "cell_type": "markdown",
      "metadata": {
        "id": "jLAg8eaAlsO8"
      },
      "source": [
        "We can use a tensor like any matrix or array"
      ]
    },
    {
      "cell_type": "code",
      "execution_count": null,
      "metadata": {
        "id": "s4aNEjs1lsO9"
      },
      "outputs": [],
      "source": [
        "# Get the 0th matrix slice, the 1st row of that matrix, and the 2nd column of that row\n",
        "print(my_tensor[0,1,2])"
      ]
    },
    {
      "cell_type": "markdown",
      "metadata": {
        "id": "j1Rz7PmnlsPF"
      },
      "source": [
        "### Array Creation\n",
        "Numpy also provides several convenience functions to help you make make empty ndarrays"
      ]
    },
    {
      "cell_type": "code",
      "execution_count": null,
      "metadata": {
        "id": "KGixnygUlsPI"
      },
      "outputs": [],
      "source": [
        "desired_shape = (2,3)"
      ]
    },
    {
      "cell_type": "markdown",
      "metadata": {
        "id": "K2aU2SuRlsPN"
      },
      "source": [
        "Some useful ones:\n",
        "- zeros: Creates an array filled with zeros\n",
        "- ones: An array of ones\n",
        "- eye: The identity matrix I (needs 1 integer for square size)\n",
        "- full: Fills with an element\n",
        "- np.random.random: Random between 0 and 1\n",
        "- np.random.randn: Random normal"
      ]
    },
    {
      "cell_type": "code",
      "execution_count": null,
      "metadata": {
        "id": "0tj2E41OlsPP"
      },
      "outputs": [],
      "source": [
        "print(repr(  np.zeros(desired_shape)          ),end=\"\\n\\n\")\n",
        "print(repr(  np.ones(desired_shape)           ),end=\"\\n\\n\")\n",
        "print(repr(  np.eye(3)                        ),end=\"\\n\\n\")\n",
        "print(repr(  np.full(desired_shape, 7)        ),end=\"\\n\\n\")\n",
        "print(repr(  np.random.random(desired_shape)  ),end=\"\\n\\n\")"
      ]
    },
    {
      "cell_type": "markdown",
      "metadata": {
        "id": "p-k3yNZRlsPW"
      },
      "source": [
        "They are float32's by default, but we can also choose the datatype of the created array"
      ]
    },
    {
      "cell_type": "code",
      "execution_count": null,
      "metadata": {
        "id": "xDo_j0_elsPY"
      },
      "outputs": [],
      "source": [
        "np.eye(3, dtype=int)"
      ]
    },
    {
      "cell_type": "markdown",
      "metadata": {
        "id": "cglN-VeGlsPd"
      },
      "source": [
        "## Array Indexing"
      ]
    },
    {
      "cell_type": "markdown",
      "metadata": {
        "id": "6MKuMsnblsPj"
      },
      "source": [
        "We've already done a lot of indexing into arrays above, but let's look at some more details"
      ]
    },
    {
      "cell_type": "code",
      "execution_count": null,
      "metadata": {
        "id": "XiCgaCR9lsPk"
      },
      "outputs": [],
      "source": [
        "my_tensor = np.array(range(2*3*4)).reshape(2,3,4).astype(int)\n",
        "my_tensor"
      ]
    },
    {
      "cell_type": "markdown",
      "metadata": {
        "id": "ZCGNxWnVlsPu"
      },
      "source": [
        "### Getting Elements\n",
        "We can get elements by fully specifying the index"
      ]
    },
    {
      "cell_type": "code",
      "execution_count": null,
      "metadata": {
        "id": "q1MNo2yWlsPw"
      },
      "outputs": [],
      "source": [
        "my_tensor[0,1,2]"
      ]
    },
    {
      "cell_type": "markdown",
      "metadata": {
        "id": "U2zellPGlsP1"
      },
      "source": [
        "If we partially specify the index (in order), since this is a list-of-lists, basically, we'll get \"rows\" (or matrices, if taking parts of a tensor"
      ]
    },
    {
      "cell_type": "code",
      "execution_count": null,
      "metadata": {
        "id": "cb9PtRoclsP3"
      },
      "outputs": [],
      "source": [
        "my_tensor[0]"
      ]
    },
    {
      "cell_type": "code",
      "execution_count": null,
      "metadata": {
        "id": "e7bFnquClsP8"
      },
      "outputs": [],
      "source": [
        "my_tensor[0, 0]"
      ]
    },
    {
      "cell_type": "markdown",
      "metadata": {
        "id": "uo0r2zUYlsQH"
      },
      "source": [
        "By this logic, we can also keep adding square brackets (get the matrix, then the row, then the column)."
      ]
    },
    {
      "cell_type": "code",
      "execution_count": null,
      "metadata": {
        "id": "mmxBD63HlsQL"
      },
      "outputs": [],
      "source": [
        "my_tensor[0][0]"
      ]
    },
    {
      "cell_type": "markdown",
      "metadata": {
        "id": "cnu9vSm2lsQW"
      },
      "source": [
        "We can also use standard slice notation. Again, we don't have to specify all the dimensions."
      ]
    },
    {
      "cell_type": "code",
      "execution_count": null,
      "metadata": {
        "id": "2l4uM8talsQY"
      },
      "outputs": [],
      "source": [
        "my_tensor[0, 0:2]"
      ]
    },
    {
      "cell_type": "markdown",
      "metadata": {
        "id": "sNcr8ZiulsQd"
      },
      "source": [
        "### Setting elements\n",
        "\n",
        "We can set elements that we index too."
      ]
    },
    {
      "cell_type": "code",
      "execution_count": null,
      "metadata": {
        "id": "HGVgxGdClsQf"
      },
      "outputs": [],
      "source": [
        "my_tensor[0, 0, 0] = 100\n",
        "my_tensor"
      ]
    },
    {
      "cell_type": "markdown",
      "metadata": {
        "id": "Gi-LHTp_lsQm"
      },
      "source": [
        "We can also set blocks / slices that we index into, as long as the shapes match!"
      ]
    },
    {
      "cell_type": "code",
      "execution_count": null,
      "metadata": {
        "id": "3a7_ftSqlsQo"
      },
      "outputs": [],
      "source": [
        "# Get the 0th matrix slice. Rows 1 and 2. Get every other column starting from 0\n",
        "my_tensor[0,1:3,0::2]"
      ]
    },
    {
      "cell_type": "code",
      "execution_count": null,
      "metadata": {
        "id": "nHPPR42nlsQt"
      },
      "outputs": [],
      "source": [
        "replacement = (np.eye(2, dtype=int) + 2) * 100\n",
        "replacement"
      ]
    },
    {
      "cell_type": "code",
      "execution_count": null,
      "metadata": {
        "id": "ENDMmY3WlsQ0"
      },
      "outputs": [],
      "source": [
        "my_tensor[0, 1:3, 0::2] = replacement\n",
        "my_tensor"
      ]
    },
    {
      "cell_type": "markdown",
      "metadata": {
        "id": "LTABPyeIlsQ8"
      },
      "source": [
        "### Using Boolean and Integer Arrays as indices\n",
        "\n",
        "What if we want some sort of permutation of the tensor, that's not easy to express in slice notation?\n",
        "\n",
        "We can index into an array using an array of integers!\n",
        "\n",
        "Let's test this out on a small array first.\n"
      ]
    },
    {
      "cell_type": "code",
      "execution_count": null,
      "metadata": {
        "id": "I9Wunm3ilsRE"
      },
      "outputs": [],
      "source": [
        "my_array = np.array(range(5)) * 10 + 3\n",
        "my_array"
      ]
    },
    {
      "cell_type": "code",
      "execution_count": null,
      "metadata": {
        "id": "7Sv0NxJ8lsRM"
      },
      "outputs": [],
      "source": [
        "# We want the elements in this order\n",
        "array_of_indices = np.array([4,1,3,0,2])\n",
        "array_of_indices"
      ]
    },
    {
      "cell_type": "markdown",
      "metadata": {
        "id": "RWPj6Jx9lsRR"
      },
      "source": [
        "Let's index into our array with our index-array!"
      ]
    },
    {
      "cell_type": "code",
      "execution_count": null,
      "metadata": {
        "id": "O34Fauc7lsRS"
      },
      "outputs": [],
      "source": [
        "my_array[array_of_indices]"
      ]
    },
    {
      "cell_type": "markdown",
      "metadata": {
        "id": "_hKOdDO7lsRX"
      },
      "source": [
        "The shape of the output is determined by the index-array. We can use this to make complicated shapes, repeat elements, or exclude elements!"
      ]
    },
    {
      "cell_type": "code",
      "execution_count": null,
      "metadata": {
        "id": "DyIvHAPhlsRZ"
      },
      "outputs": [],
      "source": [
        "# Make a selector array\n",
        "selector = (np.random.random((3,4)) * len(my_array)).astype(int)\n",
        "selector"
      ]
    },
    {
      "cell_type": "code",
      "execution_count": null,
      "metadata": {
        "id": "ncub78F9lsRo"
      },
      "outputs": [],
      "source": [
        "# Now, we can use these to get elements from our original array!\n",
        "my_array[selector]"
      ]
    },
    {
      "cell_type": "markdown",
      "metadata": {
        "id": "uXxyPFaNlsRy"
      },
      "source": [
        "We can also use boolean arrays (masks) of the same size as the input, to get a part of the output!"
      ]
    },
    {
      "cell_type": "code",
      "execution_count": null,
      "metadata": {
        "id": "3RTyoSWglsR1"
      },
      "outputs": [],
      "source": [
        "my_mask = np.array([1, 0, 0, 1, 1], dtype=bool)\n",
        "my_mask"
      ]
    },
    {
      "cell_type": "code",
      "execution_count": null,
      "metadata": {
        "id": "sfz7P2zhlsR7"
      },
      "outputs": [],
      "source": [
        "print(\"Original\")\n",
        "print(repr(my_array))\n",
        "print(\"Masked with\",repr(my_mask))\n",
        "print(repr(my_array[my_mask]))"
      ]
    },
    {
      "cell_type": "markdown",
      "metadata": {
        "id": "hF-Sh9z8lsSC"
      },
      "source": [
        "This is indexing - so we can also SET elements like this!"
      ]
    },
    {
      "cell_type": "code",
      "execution_count": null,
      "metadata": {
        "id": "Lkq7xsL4lsSD"
      },
      "outputs": [],
      "source": [
        "print(repr(my_array))\n",
        "replacement = np.array([600, 700, 800])\n",
        "my_array[my_mask] = replacement\n",
        "print(repr(my_array))"
      ]
    },
    {
      "cell_type": "markdown",
      "metadata": {
        "id": "f4pYwWZUlsSJ"
      },
      "source": [
        "The `<` and `>` operators return masks - so you can use these to mask the original array, or even other arrays!"
      ]
    },
    {
      "cell_type": "code",
      "execution_count": null,
      "metadata": {
        "id": "AM26CBJilsSK"
      },
      "outputs": [],
      "source": [
        "my_array > 20"
      ]
    },
    {
      "cell_type": "code",
      "execution_count": null,
      "metadata": {
        "id": "l67F-Z5klsSU"
      },
      "outputs": [],
      "source": [
        "my_array[my_array > 20]"
      ]
    },
    {
      "cell_type": "markdown",
      "metadata": {
        "id": "68P4RBS3lsSZ"
      },
      "source": [
        "These concepts all hold in multiple dimensions as well"
      ]
    },
    {
      "cell_type": "markdown",
      "metadata": {
        "id": "wn4EUsu3lsSa"
      },
      "source": [
        "### Elementwise- and Matrix Math\n",
        "\n",
        "Indexing and creating arrays is cool, but the real power of Numpy is doing math using those arrays."
      ]
    },
    {
      "cell_type": "markdown",
      "metadata": {
        "id": "K2qjvNr7lsSb"
      },
      "source": [
        "The basic mathematical operators (+, -, /, \\*, %) are treated as \"elementwise\" operators - they do something with each element. Which operands are used depends on a concept called \"broadcasting\". In practice - if you have two ndarrays of the same shape, then the operands will be corresponding elements in each ndarray. Otherwise, if possible, the smaller ndarray/scalar is repeated to be the same size as the larger array."
      ]
    },
    {
      "cell_type": "code",
      "execution_count": null,
      "metadata": {
        "id": "xKbDvKXflsSd"
      },
      "outputs": [],
      "source": [
        "a = np.array(range(10)).reshape(2,5)\n",
        "b = np.array(range(100,1100,100)).reshape(2,5)\n",
        "print(\"a =\",repr(  a  ))\n",
        "print(\"b =\",repr(  b  ))"
      ]
    },
    {
      "cell_type": "markdown",
      "metadata": {
        "id": "WUc4W7zXlsSi"
      },
      "source": [
        "Operate on corresponding elements of a and b"
      ]
    },
    {
      "cell_type": "code",
      "execution_count": null,
      "metadata": {
        "id": "l5sbCnHUlsSj"
      },
      "outputs": [],
      "source": [
        "a + b"
      ]
    },
    {
      "cell_type": "code",
      "execution_count": null,
      "metadata": {
        "id": "XrfLmt_3lsSp"
      },
      "outputs": [],
      "source": [
        "a * b"
      ]
    },
    {
      "cell_type": "markdown",
      "metadata": {
        "id": "LHzMZue0lsSt"
      },
      "source": [
        "We can also use scalars as operands, which will be \"broadcast\" to every element."
      ]
    },
    {
      "cell_type": "code",
      "execution_count": null,
      "metadata": {
        "id": "uMMQc84dlsSv"
      },
      "outputs": [],
      "source": [
        "a * 2"
      ]
    },
    {
      "cell_type": "code",
      "execution_count": null,
      "metadata": {
        "id": "JHbA-iQ5lsSz"
      },
      "outputs": [],
      "source": [
        "b % 3"
      ]
    },
    {
      "cell_type": "markdown",
      "metadata": {
        "id": "B6JGm6tnlsS3"
      },
      "source": [
        "### Matrix Math\n",
        "\n",
        "We can also do more complex math, that accounts for the shape of inputs. For example, matrix multiplication!"
      ]
    },
    {
      "cell_type": "code",
      "execution_count": null,
      "metadata": {
        "id": "UG2MAb6ylsS4"
      },
      "outputs": [],
      "source": [
        "A = np.array( range(6) ). reshape((3,2))\n",
        "B = np.array( range(10,16) ). reshape((2,3))\n",
        "\n",
        "print(\"A =\", repr(A))\n",
        "print(\"B =\", repr(B))"
      ]
    },
    {
      "cell_type": "code",
      "execution_count": null,
      "metadata": {
        "id": "ZnqwCBZtlsS_"
      },
      "outputs": [],
      "source": [
        "np.matmul(A, B)"
      ]
    },
    {
      "cell_type": "markdown",
      "metadata": {
        "id": "FTmJT3qLlsTD"
      },
      "source": [
        "Here we have multiplied a (3 x 2) matrix by a (2 x 3) matrix to get a (3 x 3). We can get a different result by multiplying the other way. "
      ]
    },
    {
      "cell_type": "code",
      "execution_count": null,
      "metadata": {
        "id": "lsZUzJK7lsTE"
      },
      "outputs": [],
      "source": [
        "np.matmul(B,A)"
      ]
    },
    {
      "cell_type": "markdown",
      "metadata": {
        "id": "M1vkrea_lsTH"
      },
      "source": [
        "You can also use the `@` operator for matrix multiplication"
      ]
    },
    {
      "cell_type": "code",
      "execution_count": null,
      "metadata": {
        "id": "EnEXc8vulsTH"
      },
      "outputs": [],
      "source": [
        "B @ A"
      ]
    },
    {
      "cell_type": "markdown",
      "metadata": {
        "id": "f9s_XiIKlsTK"
      },
      "source": [
        "Some other useful operations:\n",
        "- Transpose: In fact, this is done so often there is a property `.T` of any matrix that computes the transpose\n",
        "- Inverse: In the linalg submodule (`numpy.linalg.inv`)\n",
        "\n",
        "Many other useful operators exist in numpy!\n"
      ]
    },
    {
      "cell_type": "code",
      "execution_count": null,
      "metadata": {
        "id": "RfV3qnjDlsTM"
      },
      "outputs": [],
      "source": [
        "# Some arbitrary matrix, maybe representing a system of equations\n",
        "A = np.array([\n",
        "    [3, 2, 1],\n",
        "    [4, 8, 2],\n",
        "    [1, 2, 3]\n",
        "])\n",
        "print(\"shape\", A.shape)\n",
        "print(repr(A))"
      ]
    },
    {
      "cell_type": "code",
      "execution_count": null,
      "metadata": {
        "id": "ste9G-a2lsTT"
      },
      "outputs": [],
      "source": [
        "print(\"Transpose:\\n\", repr(A.T))"
      ]
    },
    {
      "cell_type": "code",
      "execution_count": null,
      "metadata": {
        "id": "4MJiizuelsTV"
      },
      "outputs": [],
      "source": [
        "A_inv = np.linalg.inv(A)\n",
        "print(\"Inverse:\", repr(A_inv), sep=\"\\n\")"
      ]
    },
    {
      "cell_type": "markdown",
      "metadata": {
        "id": "z7-Sjw8JlsTZ"
      },
      "source": [
        "We expect that multiplying the inverse should yield the identity"
      ]
    },
    {
      "cell_type": "code",
      "execution_count": null,
      "metadata": {
        "id": "ADTlhhyClsTZ"
      },
      "outputs": [],
      "source": [
        "maybe_identity = np.matmul(A_inv, A)\n",
        "maybe_identity"
      ]
    },
    {
      "cell_type": "markdown",
      "metadata": {
        "id": "1gQyebtklsTd"
      },
      "source": [
        "Since we're doing arithmetic with floats, we have small floating point errors. Let's use the elementwise `np.round`"
      ]
    },
    {
      "cell_type": "code",
      "execution_count": null,
      "metadata": {
        "id": "aofXjCn-lsTe"
      },
      "outputs": [],
      "source": [
        "np.round(maybe_identity)"
      ]
    },
    {
      "cell_type": "markdown",
      "metadata": {
        "id": "7-4In7ZklsTi"
      },
      "source": [
        "### Other Useful Functions"
      ]
    },
    {
      "cell_type": "markdown",
      "metadata": {
        "id": "2vQjTdJIlsTj"
      },
      "source": [
        "Other functions in Numpy that are useful:\n",
        "- sum: Adds all elements of an ndarray, or sums along a given dimension (\"axis\")\n",
        "- stack: joins two arrays in a new dimension\n",
        "- concatenate: joins two arrays in an existing dimension"
      ]
    },
    {
      "cell_type": "code",
      "execution_count": null,
      "metadata": {
        "id": "P5l--J5nlsTk"
      },
      "outputs": [],
      "source": [
        "A = np.array(range(10)).reshape(2,5)\n",
        "A"
      ]
    },
    {
      "cell_type": "code",
      "execution_count": null,
      "metadata": {
        "id": "4TBnwn6olsTm"
      },
      "outputs": [],
      "source": [
        "print(\"A's Shape is\", A.shape)\n",
        "col_sum = np.sum(A, axis = 0)\n",
        "row_sum = np.sum(A, axis = 1)\n",
        "total_sum = np.sum(A)\n",
        "print(\"Row sums (shape: %s) - sum all values on axis 1 (along the column)\" % str(row_sum.shape))\n",
        "print(repr(row_sum))\n",
        "print(\"Col sums (shape: %s) - sum all values on axis 0 (along the row)\" % str(col_sum.shape))\n",
        "print(repr(col_sum))\n",
        "print(\"Full array sum (scalar)\")\n",
        "print(repr(total_sum))"
      ]
    },
    {
      "cell_type": "markdown",
      "metadata": {
        "id": "qDOGS3dOlsTo"
      },
      "source": [
        "**Stacking Arrays**"
      ]
    },
    {
      "cell_type": "code",
      "execution_count": null,
      "metadata": {
        "id": "3eoEBIkBlsTo"
      },
      "outputs": [],
      "source": [
        "A = np.array((range(10))).reshape(2,5)\n",
        "B = np.array((range(10,20))).reshape(2,5)\n",
        "print(\"A=\",repr(A),sep=\"\\n\")\n",
        "print(\"B=\",repr(B),sep=\"\\n\")"
      ]
    },
    {
      "cell_type": "markdown",
      "metadata": {
        "id": "9SDMe68nlsTr"
      },
      "source": [
        "Stack arrays on a new axis with `numpy.stack`."
      ]
    },
    {
      "cell_type": "code",
      "execution_count": null,
      "metadata": {
        "id": "qTXvlPq8lsTs"
      },
      "outputs": [],
      "source": [
        "stacked = np.stack([A,B])\n",
        "print(\"A shape: %s  ---  B shape: %s  ---  stacked shape: %s\" % (A.shape, B.shape, stacked.shape))\n",
        "stacked"
      ]
    },
    {
      "cell_type": "markdown",
      "metadata": {
        "id": "nlX3LjKylsTv"
      },
      "source": [
        "**Concatenating arrays** \\\n",
        "Concatenate arrays along an existing axis 0 (change only axis 0, rest of shape should be same)."
      ]
    },
    {
      "cell_type": "code",
      "execution_count": null,
      "metadata": {
        "id": "aG5GyJPrlsTw"
      },
      "outputs": [],
      "source": [
        "catted = np.concatenate([A,B], axis=0)\n",
        "print(\"A shape: %s  ---  B shape: %s  ---  catted shape (meow!): %s\" % (A.shape, B.shape, catted.shape))\n",
        "catted"
      ]
    },
    {
      "cell_type": "markdown",
      "metadata": {
        "id": "YTqSqOhjlsTx"
      },
      "source": [
        "### Try it yourself!\n",
        "\n",
        "You should now be able to do [Exercise 2](#exercise2) (a) to (c)"
      ]
    },
    {
      "cell_type": "markdown",
      "metadata": {
        "id": "2U99DsPdlsTy"
      },
      "source": [
        "# Matplotlib\n",
        "\n",
        "Matplotlib is a plotting library. `matplotlib.pyplot` exposes a stateful, easy to use, plotting system"
      ]
    },
    {
      "cell_type": "code",
      "execution_count": null,
      "metadata": {
        "id": "azOkUU7elsTy"
      },
      "outputs": [],
      "source": [
        "import matplotlib\n",
        "import matplotlib.pyplot as plt"
      ]
    },
    {
      "cell_type": "markdown",
      "metadata": {
        "id": "X04gLBijlsT2"
      },
      "source": [
        "### Plotting\n",
        "\n",
        "Let's make a simple 2d plot"
      ]
    },
    {
      "cell_type": "code",
      "execution_count": null,
      "metadata": {
        "id": "zYnaz3CilsT3"
      },
      "outputs": [],
      "source": [
        "# Compute the x and y coordinates for points on a sine curve\n",
        "x = np.arange(0, 3 * np.pi, 0.1)\n",
        "y = np.sin(x)\n",
        "\n",
        "# Plot the points using matplotlib\n",
        "plt.plot(x, y)\n",
        "plt.show()"
      ]
    },
    {
      "cell_type": "markdown",
      "metadata": {
        "id": "JQWNg2MilsT6"
      },
      "source": [
        "With just a little bit of extra work we can easily plot multiple lines at once, and add a title, legend, and axis labels:"
      ]
    },
    {
      "cell_type": "code",
      "execution_count": null,
      "metadata": {
        "id": "c6pj9c2HlsT7"
      },
      "outputs": [],
      "source": [
        "y_sin = np.sin(x)\n",
        "y_cos = np.cos(x)\n",
        "\n",
        "# Plot the points using matplotlib\n",
        "plt.plot(x, y_sin)\n",
        "plt.plot(x, y_cos)\n",
        "plt.xlabel('x axis label')\n",
        "plt.ylabel('y axis label')\n",
        "plt.title('Sine and Cosine')\n",
        "plt.legend(['Sine', 'Cosine'])\n",
        "plt.show()"
      ]
    },
    {
      "cell_type": "markdown",
      "metadata": {
        "id": "tUmTvJD3lsT8"
      },
      "source": [
        "### Subplots \n",
        "\n",
        "You can plot different things in the same figure using the subplot function. Here is an example:"
      ]
    },
    {
      "cell_type": "code",
      "execution_count": null,
      "metadata": {
        "id": "cKlKQSeqlsT9"
      },
      "outputs": [],
      "source": [
        "# Compute the x and y coordinates for points on sine and cosine curves\n",
        "x = np.arange(0, 3 * np.pi, 0.1)\n",
        "y_sin = np.sin(x)\n",
        "y_cos = np.cos(x)\n",
        "\n",
        "# Set up a subplot grid that has height 2 and width 1,\n",
        "# and set the first such subplot as active.\n",
        "plt.subplot(2, 1, 1)\n",
        "\n",
        "# Make the first plot\n",
        "plt.plot(x, y_sin)\n",
        "plt.title('Sine')\n",
        "\n",
        "# Set the second subplot as active, and make the second plot.\n",
        "plt.subplot(2, 1, 2)\n",
        "plt.plot(x, y_cos)\n",
        "plt.title('Cosine')\n",
        "\n",
        "# Show the figure.\n",
        "plt.show()"
      ]
    },
    {
      "cell_type": "markdown",
      "metadata": {
        "id": "Gq2S1LcnSXTZ"
      },
      "source": [
        "### Try it yourself!\n",
        "\n",
        "You should now be able to do [Exercise 2](#exercise2) (d)"
      ]
    },
    {
      "cell_type": "markdown",
      "metadata": {
        "id": "tXV5YxS7lsU2"
      },
      "source": [
        "# Exercises _TODOs_\n",
        "\n",
        "All of the exercises below are doable with the information you've been presented thus far.\n",
        "Have fun!\n"
      ]
    },
    {
      "cell_type": "markdown",
      "metadata": {
        "id": "eLZxOOH-lsU3"
      },
      "source": [
        "## Exercise 1   <a id='exercise1' name='exercise1'></a>\n",
        "**Grading students**\n",
        "The class has `num_students` students. Each student has `num_grades` grades, one for each assignment. \n",
        "Grades are stored in a numpy ndarray, of shape `(num_students, num_grades)`. (Each row is a student, each column is an assignment)\n",
        "\n",
        "**(a)** Create a numpy array of the proper shape to hold the grades table, and fill it with the values `[0, num_students * num_grades)`, going left-to-right, then top-to-bottom.\n",
        "\n",
        "**(b)** We have a meeting with the student Julie, whose index is `2`, and want to see how she's doing in the class. Use ndarray slicing to get an array containing all of her grades (index 2).\n",
        "\n",
        "**(c)** The lecturer wants to know if Assignment 4 (index 4) is too hard. Use ndarray slicing to extract the whole classes grades for this assignment."
      ]
    },
    {
      "cell_type": "code",
      "execution_count": null,
      "metadata": {
        "id": "w4oSQJq1lsU4"
      },
      "outputs": [],
      "source": [
        "num_students  = 4\n",
        "num_grades    = 5\n",
        "\n",
        "# (a)\n",
        "grades_table = []\n",
        "\n",
        "# (b)\n",
        "julies_grades = []\n",
        "\n",
        "# (c)\n",
        "pset4_grades = []"
      ]
    },
    {
      "cell_type": "markdown",
      "metadata": {
        "id": "1-YEM3t2lsU-"
      },
      "source": [
        "## Exercise 2  <a id='exercise2' name='exercise2'></a>\n",
        "**Human Pose Estimation** The results of a pose estimation algorithm are stored in a matrix of shape `(num_keypoints, 3)` (each row is a key point on the body like the head, the torso, or an arm and the columns are the positions X,Y,Z). A \"joint\" is a connection between two keypoints, expressed as a matrix of shape `(num_joints, 2)`, (each row is a joint, the columns are START_KEYPOINT_INDEX and END_KEYPOINT_INDEX). For example, the joint connecting the head (index 0) with the torso (index 1) is `[0, 1]`.\n",
        "\n",
        "**(a)** Create a matrix of joint starts, and another matrix of joint ends, each of shape `(num_joints, 3)`. The starts table should contain the position of the start of each joint (according to `keypoint_positions`)  \n",
        "\n",
        "**(b)** Create a matrix of joint-displacements, of shape `(num_joints, 3)`. Each row represents a joint. The columns should be the difference in X, Y, and Z between the start of the joint, and the end of the joint, respectively `(endX - startX, endY - startY, endZ-startZ)`. \n",
        "\n",
        "**(c)** Find the length of each joint (these displacement vectors), and output the results in an array of length `num_joints`\n",
        "\n",
        "**(d)** (_after Matplotlib section_) Utilize `matplotlib` to draw the joints as lines. After drawing you should see a stick figure. \n"
      ]
    },
    {
      "cell_type": "code",
      "execution_count": null,
      "metadata": {
        "id": "w028LM6llsU_"
      },
      "outputs": [],
      "source": [
        "num_keypoints = 7\n",
        "num_joints = 6\n",
        "\n",
        "\n",
        "# All Z's in one plane, but makes it easier to see XYZ vs Start/end\n",
        "keypoint_positions = np.array(\n",
        "    [\n",
        "        [0, 1, 0],  #0 Head\n",
        "        [0, 0, 0],  #1 Torso\n",
        "        [1, 0, 0],  #2 Right Arm\n",
        "        [-1, 0, 0], #3 Left Arm\n",
        "        [0, -1, 0], #4 Lower Torso\n",
        "        [1, -2, 0], #5 Right Leg\n",
        "        [-1, -2, 0] #6 Left Leg\n",
        "    ]\n",
        ") # shape: num_keypoints x 3\n",
        "\n",
        "#   O\n",
        "#  _|_\n",
        "#   |\n",
        "#  / \\\n",
        "joints = np.array([\n",
        "    # Head to torso\n",
        "    [0, 1],\n",
        "    # Torso to Right arm\n",
        "    [1, 2],\n",
        "    # Torso to Left Arm\n",
        "    [1, 3],\n",
        "    # Torso to Lower Torso\n",
        "    [1, 4],\n",
        "    # Lower Torso to Right Leg\n",
        "    [4, 5],\n",
        "    # Lower Torso to Left Leg\n",
        "    [4, 6]\n",
        "]) # shape: num_joints x 2\n",
        "\n",
        "# (a)\n",
        "starts  = []\n",
        "ends    = []\n",
        "\n",
        "\n",
        "# (b)\n",
        "\n",
        "\n",
        "# (c)\n",
        "\n",
        "\n",
        "# (d)\n",
        "\n"
      ]
    }
  ],
  "metadata": {
    "colab": {
      "collapsed_sections": [
        "pirJzx0ylsOt",
        "YTqSqOhjlsTx"
      ],
      "name": "01_PythonTutorial.ipynb",
      "provenance": [],
      "toc_visible": true
    },
    "kernelspec": {
      "display_name": "Python 3",
      "language": "python",
      "name": "python3"
    },
    "language_info": {
      "codemirror_mode": {
        "name": "ipython",
        "version": 3
      },
      "file_extension": ".py",
      "mimetype": "text/x-python",
      "name": "python",
      "nbconvert_exporter": "python",
      "pygments_lexer": "ipython3",
      "version": "3.8.10"
    },
    "varInspector": {
      "cols": {
        "lenName": 16,
        "lenType": 16,
        "lenVar": 40
      },
      "kernels_config": {
        "python": {
          "delete_cmd_postfix": "",
          "delete_cmd_prefix": "del ",
          "library": "var_list.py",
          "varRefreshCmd": "print(var_dic_list())"
        },
        "r": {
          "delete_cmd_postfix": ") ",
          "delete_cmd_prefix": "rm(",
          "library": "var_list.r",
          "varRefreshCmd": "cat(var_dic_list()) "
        }
      },
      "types_to_exclude": [
        "module",
        "function",
        "builtin_function_or_method",
        "instance",
        "_Feature"
      ],
      "window_display": false
    }
  },
  "nbformat": 4,
  "nbformat_minor": 0
}
