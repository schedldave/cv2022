{
  "nbformat": 4,
  "nbformat_minor": 0,
  "metadata": {
    "colab": {
      "name": "HW01_Compression.ipynb",
      "provenance": [],
      "collapsed_sections": [],
      "authorship_tag": "ABX9TyOYUwTLlJoajQxZYjezDf4b",
      "include_colab_link": true
    },
    "kernelspec": {
      "name": "python3",
      "display_name": "Python 3"
    },
    "language_info": {
      "name": "python"
    }
  },
  "cells": [
    {
      "cell_type": "markdown",
      "metadata": {
        "id": "view-in-github",
        "colab_type": "text"
      },
      "source": [
        "<a href=\"https://colab.research.google.com/github/schedldave/cv2022/blob/main/HW01_Compression.ipynb\" target=\"_parent\"><img src=\"https://colab.research.google.com/assets/colab-badge.svg\" alt=\"Open In Colab\"/></a>"
      ]
    },
    {
      "cell_type": "markdown",
      "source": [
        "# Computer Vision Homework 01 - Compression\n",
        "\n",
        "Contact: David C. Schedl (david.schedl@fh-hagenberg.at)\n",
        "\n",
        "Note: this is the starter pack for the **Computer Vision** homework. You do not need to use this template!"
      ],
      "metadata": {
        "id": "bk92nT2wT4U8"
      }
    },
    {
      "cell_type": "markdown",
      "source": [
        "## Task:\n",
        "Implement your image compression algorithm by exploiting the frequency domain. \n",
        "\n",
        "When you look at the spectra you will notice that some frequencies have very low-coefficients and thus can be easily removed. How much can be removed before the image quality gets pretty bad?\n",
        "Think about a way of encoding which frequencies you can remove and what you keep? \n",
        "\n",
        "Analyze your algorithm on a set of images and evaluate your results concerning quality (e.g., MSE) and size reduction achieved (how many bits could be saved?). Can you make image quality / size reduction a parameter? \n",
        "\n",
        "Ideally you use (a large) set of different evaluation images (e.g., showing artificial content, buildings, nature, animals, objects, colors, …). \n",
        "*Hint:* Work with low-res images to speed up computation and avoid huge storage requirements.\n",
        "\n",
        "\n",
        "**Further comments/hints:**\n",
        "\n",
        "*   You do not need to come up with a super compression algorithm! It is mostly about getting into the topic.\n",
        "*   Be creative! 🤔\n",
        "*   Think about the problem, solve it, and critically evaluate your solution.\n",
        "*   Summarize your ideas and findings in the report. \n",
        "\n",
        "\n",
        "\n",
        "**Have fun!** 😸\n"
      ],
      "metadata": {
        "id": "GMb4sAogUarc"
      }
    },
    {
      "cell_type": "markdown",
      "source": [
        "### Example Dataset: CIFAR 10\n",
        "\n",
        "The CIFAR-10 dataset consists of 60000 32x32 colour images in 10 classes, with 6000 images per class. There are 50000 training images and 10000 test images. It was originally used for Machine Learning, but we can use it for our compression experiments.\n",
        "For details, see [this website](https://www.cs.toronto.edu/~kriz/cifar.html)!\n",
        "\n",
        "**Note: you do not need to use CIFAR-10! Any other dataset is fine.** "
      ],
      "metadata": {
        "id": "qNfPtXgOVPlk"
      }
    },
    {
      "cell_type": "code",
      "execution_count": 1,
      "metadata": {
        "colab": {
          "base_uri": "https://localhost:8080/"
        },
        "id": "AdI7V-ijTuup",
        "outputId": "d2e1c17b-1ba9-411c-cfb5-b5ddf47c89d2"
      },
      "outputs": [
        {
          "output_type": "stream",
          "name": "stdout",
          "text": [
            "Collecting git+https://github.com/schedldave/py-cifar10\n",
            "  Cloning https://github.com/schedldave/py-cifar10 to /tmp/pip-req-build-3u5ykh2l\n",
            "  Running command git clone -q https://github.com/schedldave/py-cifar10 /tmp/pip-req-build-3u5ykh2l\n",
            "Requirement already satisfied: requests in /usr/local/lib/python3.7/dist-packages (from cifar10==1.0.1) (2.23.0)\n",
            "Requirement already satisfied: tqdm in /usr/local/lib/python3.7/dist-packages (from cifar10==1.0.1) (4.63.0)\n",
            "Requirement already satisfied: numpy in /usr/local/lib/python3.7/dist-packages (from cifar10==1.0.1) (1.21.5)\n",
            "Requirement already satisfied: certifi>=2017.4.17 in /usr/local/lib/python3.7/dist-packages (from requests->cifar10==1.0.1) (2021.10.8)\n",
            "Requirement already satisfied: idna<3,>=2.5 in /usr/local/lib/python3.7/dist-packages (from requests->cifar10==1.0.1) (2.10)\n",
            "Requirement already satisfied: chardet<4,>=3.0.2 in /usr/local/lib/python3.7/dist-packages (from requests->cifar10==1.0.1) (3.0.4)\n",
            "Requirement already satisfied: urllib3!=1.25.0,!=1.25.1,<1.26,>=1.21.1 in /usr/local/lib/python3.7/dist-packages (from requests->cifar10==1.0.1) (1.24.3)\n"
          ]
        }
      ],
      "source": [
        "# This python package helps you to work with CIFAR-10\n",
        "!pip install git+https://github.com/schedldave/py-cifar10\n",
        "import cifar10\n"
      ]
    },
    {
      "cell_type": "code",
      "source": [
        "import matplotlib.pyplot as plt\n",
        "import numpy as np\n",
        "\n",
        "label_map = cifar10.image_label_map() # dictionary to map label integer values to text. i.e., {0: 'airplane', 1: 'automobile', 2: ...}\n",
        "\n",
        "g = cifar10.data_batch_generator() # CIFAR-10 image generator\n",
        "image, label = next(g)\n",
        "# image # numpy array of an image, which is of shape 32 x 32 x 3\n",
        "# label # integer value of the image label\n",
        "\n",
        "plt.imshow(image)\n",
        "plt.title(label_map.get(label))\n",
        "plt.show()\n",
        "\n",
        "# count all images\n",
        "count = 0\n",
        "count_labels = np.zeros(shape=(len(label_map),), dtype=int)\n",
        "for image, label in cifar10.data_batch_generator():\n",
        "  count_labels[label] += 1\n",
        "  count += 1\n",
        "\n",
        "print(f'The test set contains {count} images \\nin the following categories:')\n",
        "for i, per_label in enumerate(count_labels):\n",
        "  print(f'  {label_map.get(i)}: {per_label} images')\n"
      ],
      "metadata": {
        "colab": {
          "base_uri": "https://localhost:8080/",
          "height": 490
        },
        "id": "3rB2LBylWwsJ",
        "outputId": "17b09ee4-4155-4bbd-afd1-d1f93a1d7080"
      },
      "execution_count": 6,
      "outputs": [
        {
          "output_type": "display_data",
          "data": {
            "text/plain": [
              "<Figure size 432x288 with 1 Axes>"
            ],
            "image/png": "[encoded data removed]"
          },
          "metadata": {
            "needs_background": "light"
          }
        },
        {
          "output_type": "stream",
          "name": "stdout",
          "text": [
            "The test set contains 50000 images \n",
            "in the following categories:\n",
            "  airplane: 5000 images\n",
            "  automobile: 5000 images\n",
            "  bird: 5000 images\n",
            "  cat: 5000 images\n",
            "  deer: 5000 images\n",
            "  dog: 5000 images\n",
            "  frog: 5000 images\n",
            "  horse: 5000 images\n",
            "  ship: 5000 images\n",
            "  truck: 5000 images\n"
          ]
        }
      ]
    },
    {
      "cell_type": "markdown",
      "source": [
        "### Frequencies: DFT and DCT\n",
        "\n",
        "The Discrete Fourier Transformation and the Discrete Cosine Transfrom convert a signal into its frequencies. Unlike the Fast Fourier Transformation (FFT) their results are real numbered, which makes it easier to work with them. \n",
        "\n",
        "The idea and the principle is similar to an FFT. \n",
        "\n",
        "Below you will find example usages for OpenCV's DFT and DCT implementations:"
      ],
      "metadata": {
        "id": "QLikfo02PyZD"
      }
    },
    {
      "cell_type": "code",
      "source": [
        "import cv2\n",
        "\n",
        "# use a CIFAR-10 image and convert it to grayscale\n",
        "gray = cv2.cvtColor(cv2.cvtColor(image,cv2.COLOR_BGR2RGB), cv2.COLOR_RGB2GRAY)\n",
        "\n",
        "# Transform the image to frequency domain using FFT/DFT\n",
        "f = cv2.dft(gray.astype(np.double))\n",
        "print(repr(f.dtype)) # The DFT produces a real numbered result\n",
        "\n",
        "plt.figure(figsize=(15,10))\n",
        "plt.subplot(131), plt.imshow(gray, cmap = 'gray'), plt.title('Input Image')\n",
        "plt.subplot(132), plt.imshow(f), plt.title('DFT Spectrum')\n",
        "plt.subplot(133), plt.imshow(cv2.idft(f, flags=cv2.DFT_SCALE), cmap = 'gray'), plt.title('Inverse DFT')\n",
        "\n",
        "plt.show()"
      ],
      "metadata": {
        "colab": {
          "base_uri": "https://localhost:8080/",
          "height": 327
        },
        "id": "ATqoTtlZP0jU",
        "outputId": "301481a0-653b-4e4d-c317-822619d87776"
      },
      "execution_count": 39,
      "outputs": [
        {
          "output_type": "stream",
          "name": "stdout",
          "text": [
            "dtype('float64')\n"
          ]
        },
        {
          "output_type": "display_data",
          "data": {
            "text/plain": [
              "<Figure size 1080x720 with 3 Axes>"
            ],
            "image/png": "[encoded data removed]"
          },
          "metadata": {
            "needs_background": "light"
          }
        }
      ]
    },
    {
      "cell_type": "code",
      "source": [
        "# use a CIFAR-10 image and convert it to grayscale\n",
        "gray = cv2.cvtColor(cv2.cvtColor(image,cv2.COLOR_BGR2RGB), cv2.COLOR_RGB2GRAY)\n",
        "\n",
        "# Transform the image to frequency domain using DCT\n",
        "d = cv2.dct(gray.astype(np.double)) # NOTE: OpenCV's dct needs a floating point data type!\n",
        "print(repr(d.dtype)) # The DCT uses only real numbers!\n",
        "\n",
        "plt.figure(figsize=(15,10))\n",
        "plt.subplot(131), plt.imshow(gray, cmap = 'gray'), plt.title('Input Image')\n",
        "plt.subplot(132), plt.imshow(d), plt.title('DCT Spectrum')\n",
        "plt.subplot(133), plt.imshow(cv2.idct(d), cmap = 'gray'), plt.title('Inverse DCT')\n",
        "\n",
        "plt.show()"
      ],
      "metadata": {
        "colab": {
          "base_uri": "https://localhost:8080/",
          "height": 327
        },
        "id": "hjmgDa7TQb2R",
        "outputId": "37e627db-20ef-4e3c-e9e0-4e3713294a78"
      },
      "execution_count": 32,
      "outputs": [
        {
          "output_type": "stream",
          "name": "stdout",
          "text": [
            "dtype('float64')\n"
          ]
        },
        {
          "output_type": "display_data",
          "data": {
            "text/plain": [
              "<Figure size 1080x720 with 3 Axes>"
            ],
            "image/png": "[encoded data removed]"
          },
          "metadata": {
            "needs_background": "light"
          }
        }
      ]
    },
    {
      "cell_type": "code",
      "source": [
        "def MSE(A,B):\n",
        "  \"\"\"compute the mean squared error (MSE) between numpy array A and B\n",
        "  \"\"\"\n",
        "  return ((A - B)**2).mean(axis=None)\n",
        "\n",
        "print( f'MSE: {MSE(gray, cv2.idct(d))}' ) # should be very low!\n",
        "print( f'MSE: {MSE(gray, cv2.idft(f, flags=cv2.DFT_SCALE))}' ) # should be very low!"
      ],
      "metadata": {
        "colab": {
          "base_uri": "https://localhost:8080/"
        },
        "id": "g7Z5Gyo1S7gY",
        "outputId": "f4b9a45e-d351-48b1-d1b9-aa132ead695f"
      },
      "execution_count": 38,
      "outputs": [
        {
          "output_type": "stream",
          "name": "stdout",
          "text": [
            "MSE: 1.4700669487826437e-27\n",
            "MSE: 1.5219314718130142e-27\n"
          ]
        }
      ]
    }
  ]
}